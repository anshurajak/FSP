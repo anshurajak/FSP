{
 "cells": [
  {
   "cell_type": "code",
   "execution_count": 1,
   "id": "e8cd3f4f",
   "metadata": {},
   "outputs": [],
   "source": [
    "# Project case study - Mango Garden"
   ]
  },
  {
   "cell_type": "code",
   "execution_count": 20,
   "id": "fb77db6f",
   "metadata": {},
   "outputs": [
    {
     "name": "stdout",
     "output_type": "stream",
     "text": [
      "Tree Code: T001 , Height: 20,Width: 40, And Amount Spent: 2000...\n",
      "Perfoming the annual update on the TREE..\n",
      "Tree Code: T001 , Height: 25,Width: 42, And Amount Spent: 5000...\n"
     ]
    }
   ],
   "source": [
    "class Tree:\n",
    "    def __init__(self, code , height , width, amt):\n",
    "        self.__code = code\n",
    "        self.__height = height\n",
    "        self.__width = width\n",
    "        self.__amount_spent  = amt\n",
    "\n",
    "\n",
    "    def set_code(self, code):\n",
    "        self.__code = code\n",
    "    def get_code(self):\n",
    "        return self.__code\n",
    "    \n",
    "    def set_height(self, height):\n",
    "        self.__height = height\n",
    "    def get_height(self):\n",
    "        return self.__height\n",
    "    \n",
    "    def set_width(self, width):\n",
    "        self.__width = width\n",
    "    def get_width(self):\n",
    "        return self.__width\n",
    "    \n",
    "    def set_amt(self, amt):\n",
    "        self.__amount_spent = amt\n",
    "    def get_amt(self):\n",
    "        return self.__amount_spent\n",
    "    \n",
    "    def display_tree(self):\n",
    "        print(f\"Tree Code: {self.get_code()} , Height: {self.get_height()},Width: {self.get_width()}, And Amount Spent: {self.get_amt()}...\")\n",
    "  \n",
    "\n",
    "    def annual_update(self, htt, wdd, amtspnt):\n",
    "        print(\"Perfoming the annual update on the TREE..\")\n",
    "        self.set_height(self.get_height() + htt)  # self.__height += htt\n",
    "        self.__width += wdd\n",
    "        self.__amount_spent += amtspnt\n",
    "\n",
    "\n",
    "T1 = Tree (\"T001\", 20 , 40 , 2000)\n",
    "T1.display_tree()\n",
    "\n",
    "T1.annual_update(5,2,3000)\n",
    "T1.display_tree()"
   ]
  },
  {
   "cell_type": "code",
   "execution_count": 24,
   "id": "c759ab00",
   "metadata": {},
   "outputs": [
    {
     "name": "stdout",
     "output_type": "stream",
     "text": [
      "Tree Code: Man001 , Height: 20,Width: 10, And Amount Spent: 4000...\n",
      "And Yield: 20000...\n",
      "Performin the annumal update on the MANGO TREE...\n",
      "Perfoming the annual update on the TREE..\n",
      "Tree Code: Man001 , Height: 25,Width: 12, And Amount Spent: 7000...\n",
      "And Yield: 25000...\n"
     ]
    }
   ],
   "source": [
    "class MangoTree(Tree):\n",
    "    def __init__(self, code, height, width, amt, yld):\n",
    "        self.__yield = yld\n",
    "        super().__init__(code, height, width, amt)\n",
    "\n",
    "\n",
    "    def set_yield(self, my_yield):\n",
    "        self.__yield = my_yield\n",
    "    def get_yield(self):\n",
    "        return self.__yield\n",
    "    \n",
    "    def display_mango_tree(self):\n",
    "        super(MangoTree, self).display_tree()\n",
    "        print(f\"And Yield: {self.get_yield()}...\")\n",
    "\n",
    "\n",
    "    def annual_update(self, htt, wdd, amtspnt,my_yield):\n",
    "        print(\"Performin the annumal update on the MANGO TREE...\")\n",
    "        super(MangoTree, self).annual_update(htt,wdd,amtspnt)\n",
    "        self.set_yield(self.get_yield() + my_yield)\n",
    "\n",
    "m1 = MangoTree(\"Man001\",20, 10, 4000, 20000)\n",
    "m1.display_mango_tree()\n",
    "m1.annual_update(5,2,3000,5000)\n",
    "m1.display_mango_tree()"
   ]
  },
  {
   "cell_type": "code",
   "execution_count": 35,
   "id": "a45ce122",
   "metadata": {},
   "outputs": [
    {
     "name": "stdout",
     "output_type": "stream",
     "text": [
      "Displaying all garden tree details...\n",
      "Tree Code: Himsagar , Height: 20,Width: 10, And Amount Spent: 3000...\n",
      "And Yield: 5000...\n",
      "Tree Code: Langra , Height: 21,Width: 11, And Amount Spent: 3500...\n",
      "And Yield: 5500...\n",
      "Tree Code: Langra , Height: 21,Width: 11, And Amount Spent: 3500...\n",
      "And Yield: 5500...\n",
      "Tree Code: Palm , Height: 30,Width: 30, And Amount Spent: 5000...\n",
      "Tree Code: Banyan , Height: 31,Width: 31, And Amount Spent: 5300...\n",
      "So total amount spent is 20500...\n"
     ]
    }
   ],
   "source": [
    "class Garden:\n",
    "    def __init__(self, m1, m2, m3, tr1, tr2):\n",
    "        self.__mango_tree1 = m1\n",
    "        self.__mango_tree2 = m2\n",
    "        self.__mango_tree3 = m3\n",
    "        self.__tree1 = tr1\n",
    "        self.__tree2 = tr2\n",
    "    def display_garden(self):\n",
    "        print(\"Displaying all garden tree details...\")\n",
    "        self.__mango_tree1.display_mango_tree()\n",
    "        self.__mango_tree2.display_mango_tree()\n",
    "        self.__mango_tree2.display_mango_tree()\n",
    "        self.__tree1.display_tree()\n",
    "        self.__tree2.display_tree()\n",
    "    def total_amount_spent(self):\n",
    "        return self.__mango_tree1.get_amt() + self.__mango_tree2.get_amt() + \\\n",
    "        self.__mango_tree3.get_amt() + self.__tree1.get_amt() + self.__tree2.get_amt()\n",
    "grd1 = Garden(MangoTree(\"Himsagar\", 20, 10, 3000, 5000),\\\n",
    "              MangoTree(\"Langra\", 21, 11, 3500, 5500),\\\n",
    "              MangoTree(\"Chausa\", 22, 12, 3700, 5700),\\\n",
    "              Tree(\"Palm\", 30, 30, 5000),\\\n",
    "              Tree(\"Banyan\", 31, 31, 5300))\n",
    "grd1.display_garden()\n",
    "print(f\"So total amount spent is {grd1.total_amount_spent()}...\")"
   ]
  },
  {
   "cell_type": "code",
   "execution_count": 36,
   "id": "da0f4850",
   "metadata": {},
   "outputs": [
    {
     "name": "stdout",
     "output_type": "stream",
     "text": [
      "Displaying all garden tree details...\n",
      "Tree Code: Himsagar , Height: 20,Width: 10, And Amount Spent: 3000...\n",
      "And Yield: 5000...\n",
      "Tree Code: Langra , Height: 21,Width: 11, And Amount Spent: 3500...\n",
      "And Yield: 5500...\n",
      "Tree Code: Langra , Height: 21,Width: 11, And Amount Spent: 3500...\n",
      "And Yield: 5500...\n",
      "Tree Code: Palm , Height: 30,Width: 30, And Amount Spent: 5000...\n",
      "Tree Code: Banyan , Height: 31,Width: 31, And Amount Spent: 5300...\n",
      "So total amount spent is 20500...\n"
     ]
    }
   ],
   "source": [
    "m1 = MangoTree(\"Himsagar\", 20, 10, 3000, 5000)\n",
    "m2 = MangoTree(\"Langra\", 21, 11, 3500, 5500)\n",
    "m3 = MangoTree(\"Chausa\", 22, 12, 3700, 5700)\n",
    "t1 = Tree(\"Palm\", 30, 30, 5000)\n",
    "              \n",
    "grd1 = Garden(m1, m2, m3, t1, Tree(\"Banyan\", 31, 31, 5300))\n",
    "grd1.display_garden()\n",
    "print(f\"So total amount spent is {grd1.total_amount_spent()}...\")"
   ]
  },
  {
   "cell_type": "code",
   "execution_count": null,
   "id": "17d4e840",
   "metadata": {},
   "outputs": [],
   "source": [
    "\n"
   ]
  },
  {
   "cell_type": "code",
   "execution_count": null,
   "id": "3b63939e",
   "metadata": {},
   "outputs": [],
   "source": []
  },
  {
   "cell_type": "code",
   "execution_count": null,
   "id": "35c955a0",
   "metadata": {},
   "outputs": [],
   "source": []
  },
  {
   "cell_type": "code",
   "execution_count": null,
   "id": "251f8e1e",
   "metadata": {},
   "outputs": [],
   "source": []
  },
  {
   "cell_type": "code",
   "execution_count": null,
   "id": "e6436003",
   "metadata": {},
   "outputs": [],
   "source": []
  },
  {
   "cell_type": "code",
   "execution_count": null,
   "id": "5b2615af",
   "metadata": {},
   "outputs": [],
   "source": []
  }
 ],
 "metadata": {
  "kernelspec": {
   "display_name": "Python 3",
   "language": "python",
   "name": "python3"
  },
  "language_info": {
   "codemirror_mode": {
    "name": "ipython",
    "version": 3
   },
   "file_extension": ".py",
   "mimetype": "text/x-python",
   "name": "python",
   "nbconvert_exporter": "python",
   "pygments_lexer": "ipython3",
   "version": "3.11.1"
  }
 },
 "nbformat": 4,
 "nbformat_minor": 5
}
